{
 "cells": [
  {
   "cell_type": "code",
   "execution_count": 1,
   "metadata": {},
   "outputs": [],
   "source": [
    "import matplotlib.pyplot as plt\n",
    "import numpy as np\n",
    "import pandas as pd\n",
    "import collections \n",
    "import time\n",
    "\n",
    "from sklearn.model_selection import train_test_split\n",
    "from sklearn.preprocessing import LabelEncoder\n",
    "\n",
    "import torch\n",
    "from torch import nn\n",
    "from torch.nn import functional as F\n",
    "from torch.utils.data import TensorDataset, DataLoader\n",
    "from torch.optim.lr_scheduler import _LRScheduler"
   ]
  },
  {
   "cell_type": "code",
   "execution_count": 2,
   "metadata": {},
   "outputs": [],
   "source": [
    "device = 'cuda:0' if torch.cuda.is_available() else 'cpu'"
   ]
  },
  {
   "cell_type": "code",
   "execution_count": 5,
   "metadata": {},
   "outputs": [],
   "source": [
    "train = pd.read_csv('./SmartFall Training.csv')\n",
    "n = 40\n",
    "X_train, y_train = list(), list()\n",
    "\n",
    "for i in range(0, len(train)-40):\n",
    "    temp = list()\n",
    "    \n",
    "    temp.append(train[' ms_accelerometer_x'][i : i + n])\n",
    "    temp.append(train[' ms_accelerometer_y'][i : i + n])\n",
    "    temp.append(train[' ms_accelerometer_z'][i : i + n])\n",
    "    \n",
    "    cnt = collections.Counter(train['outcome'][i: i + n])\n",
    "    num_adl = cnt[0]\n",
    "    num_fall = cnt[1]\n",
    "    \n",
    "    if num_fall == 25:\n",
    "        y_train.append(1)\n",
    "    else:\n",
    "        y_train.append(0)\n",
    "    \n",
    "    X_train.append(temp)"
   ]
  },
  {
   "cell_type": "code",
   "execution_count": 3,
   "metadata": {},
   "outputs": [],
   "source": [
    "class LSTMNet(nn.Module):\n",
    "    def __init__(self, input_dim, hidden_dim, n_layers, output_dim):\n",
    "        super(LSTMNet, self).__init__()\n",
    "        self.hidden_dim = hidden_dim\n",
    "        self.n_layers = n_layers\n",
    "        \n",
    "        self.lstm = nn.LSTM(input_dim, hidden_dim, n_layers, batch_first=True)\n",
    "        self.fc = nn.Linear(hidden_dim, output_dim)\n",
    "        self.relu = nn.ReLU()\n",
    "        \n",
    "    def forward(self, x):\n",
    "        h0, c0 = self.init_hidden(x)\n",
    "        out, (hn, cn) = self.lstm(x, (h0, c0))\n",
    "        out = self.fc(self.relu(out[:, -1]))\n",
    "        return out\n",
    "    \n",
    "    def init_hidden(self, x):\n",
    "        h0 = torch.zeros(self.n_layers, x.size(0), self.hidden_dim)\n",
    "        c0 = torch.zeros(self.n_layers, x.size(0), self.hidden_dim)\n",
    "        return [t.cuda() for t in (h0, c0)]"
   ]
  },
  {
   "cell_type": "code",
   "execution_count": 6,
   "metadata": {},
   "outputs": [],
   "source": [
    "X_train = np.asarray(X_train).reshape(-1, 40, 3)\n",
    "y_train = np.asarray(y_train).reshape(-1, )\n",
    "\n",
    "from sklearn.preprocessing import LabelEncoder\n",
    "enc = LabelEncoder()\n",
    "\n",
    "y_train = enc.fit_transform(y_train)\n",
    "X_train, X_valid, y_train, y_valid = train_test_split(X_train, y_train, test_size=0.1)"
   ]
  },
  {
   "cell_type": "code",
   "execution_count": 7,
   "metadata": {},
   "outputs": [],
   "source": [
    "batch_size = 128\n",
    "\n",
    "train_data = TensorDataset(torch.from_numpy(X_train), torch.from_numpy(y_train))\n",
    "train_loader = torch.utils.data.DataLoader(\n",
    "    train_data,\n",
    "    shuffle=True, batch_size=batch_size)\n",
    "\n",
    "valid_data = TensorDataset(torch.from_numpy(X_valid), torch.from_numpy(y_valid))\n",
    "valid_loader = torch.utils.data.DataLoader(\n",
    "    valid_data,\n",
    "    shuffle=True, batch_size=batch_size)"
   ]
  },
  {
   "cell_type": "code",
   "execution_count": 8,
   "metadata": {},
   "outputs": [
    {
     "name": "stdout",
     "output_type": "stream",
     "text": [
      "LSTMNet(\n",
      "  (lstm): LSTM(3, 256, num_layers=2, batch_first=True)\n",
      "  (fc): Linear(in_features=256, out_features=2, bias=True)\n",
      "  (relu): ReLU()\n",
      ")\n"
     ]
    }
   ],
   "source": [
    "input_dim = next(iter(train_loader))[0].shape[2]\n",
    "output_dim = 2\n",
    "n_layers = 2\n",
    "hidden_dim = 256\n",
    "\n",
    "lr = 0.0001\n",
    "n_epochs = 40\n",
    "iterations_per_epoch = len(train_loader)\n",
    "best_acc = 0.\n",
    "patience, trials = 15, 0\n",
    "\n",
    "model = LSTMNet(input_dim, hidden_dim, output_dim, n_layers).cuda()\n",
    "print(model)\n",
    "criterion = nn.CrossEntropyLoss().cuda()\n",
    "optimizer = torch.optim.Adam(model.parameters(), lr=lr)\n",
    "epoch_times = []"
   ]
  },
  {
   "cell_type": "code",
   "execution_count": 10,
   "metadata": {},
   "outputs": [
    {
     "name": "stdout",
     "output_type": "stream",
     "text": [
      "Start model training\n",
      "Epoch 1 best model saved with accuracy: 94.39%\n",
      "Epoch 2 best model saved with accuracy: 95.62%\n",
      "Epoch 3 best model saved with accuracy: 97.52%\n",
      "Epoch 4 best model saved with accuracy: 97.98%\n",
      "Epoch:   5. Loss: 0.0371. Acc.: 97.93%\n",
      "Epoch 6 best model saved with accuracy: 98.02%\n",
      "Epoch 8 best model saved with accuracy: 98.36%\n",
      "Epoch 9 best model saved with accuracy: 98.45%\n",
      "Epoch:  10. Loss: 0.0262. Acc.: 98.39%\n",
      "Epoch 12 best model saved with accuracy: 98.61%\n",
      "Epoch:  15. Loss: 0.0359. Acc.: 98.49%\n",
      "Epoch 16 best model saved with accuracy: 98.65%\n",
      "Epoch 17 best model saved with accuracy: 98.87%\n",
      "Epoch:  20. Loss: 0.0150. Acc.: 98.95%\n",
      "Epoch 20 best model saved with accuracy: 98.95%\n",
      "Epoch 23 best model saved with accuracy: 99.08%\n",
      "Epoch:  25. Loss: 0.0197. Acc.: 99.09%\n",
      "Epoch 25 best model saved with accuracy: 99.09%\n",
      "Epoch 26 best model saved with accuracy: 99.16%\n",
      "Epoch 28 best model saved with accuracy: 99.19%\n",
      "Epoch:  30. Loss: 0.0273. Acc.: 99.02%\n",
      "Epoch 33 best model saved with accuracy: 99.23%\n",
      "Epoch:  35. Loss: 0.0140. Acc.: 99.27%\n",
      "Epoch 35 best model saved with accuracy: 99.27%\n",
      "Epoch 38 best model saved with accuracy: 99.37%\n",
      "Epoch 39 best model saved with accuracy: 99.44%\n",
      "Epoch:  40. Loss: 0.0058. Acc.: 99.42%\n",
      "Total Training Time: 1156.788929622 seconds\n"
     ]
    }
   ],
   "source": [
    "print('Start model training')\n",
    "train_loss, train_acc = list(), list()\n",
    "for epoch in range(1, n_epochs + 1):\n",
    "    start_time = time.process_time()\n",
    "    for i, (X_batch, y_batch) in enumerate(train_loader):\n",
    "        model.train()\n",
    "        X_batch = X_batch.float().cuda()\n",
    "        y_batch = y_batch.cuda()\n",
    "        optimizer.zero_grad()\n",
    "        out = model(X_batch)\n",
    "        loss = criterion(out, y_batch)\n",
    "        loss.backward()\n",
    "        optimizer.step()\n",
    "    current_time = time.process_time()\n",
    "    epoch_times.append(current_time-start_time)\n",
    "    \n",
    "    model.eval()\n",
    "    correct, total = 0, 0\n",
    "    for x_val, y_val in valid_loader:\n",
    "        x_val, y_val = [t.cuda() for t in (x_val.float(), y_val)]\n",
    "        out = model(x_val)\n",
    "        preds = F.log_softmax(out, dim=1).argmax(dim=1)\n",
    "        total += y_val.size(0)\n",
    "        correct += (preds == y_val).sum().item()\n",
    "        \n",
    "    acc = correct / total\n",
    "    \n",
    "    train_loss.append(loss.item())\n",
    "    train_acc.append(acc)\n",
    "    \n",
    "    if epoch % 5 == 0:\n",
    "        print(f'Epoch: {epoch:3d}. Loss: {loss.item():.4f}. Acc.: {acc:2.2%}')\n",
    "        \n",
    "    if acc > best_acc:\n",
    "        trials = 0\n",
    "        best_acc = acc\n",
    "        torch.save(model.state_dict(), 'SmartFall_lstm.pth')\n",
    "        print(f'Epoch {epoch} best model saved with accuracy: {best_acc:2.2%}')\n",
    "    else:\n",
    "        trials += 1\n",
    "        if trials >= patience:\n",
    "            print(f'Early stopping on epoch {epoch}')\n",
    "            break\n",
    "print(\"Total Training Time: {} seconds\".format(str(sum(epoch_times))))"
   ]
  },
  {
   "cell_type": "code",
   "execution_count": 11,
   "metadata": {},
   "outputs": [
    {
     "data": {
      "image/png": "[encoded data removed]",
      "text/plain": [
       "<Figure size 1000x300 with 2 Axes>"
      ]
     },
     "metadata": {},
     "output_type": "display_data"
    }
   ],
   "source": [
    "plt.figure(figsize=(10, 3))\n",
    "plt.suptitle('LSTM Model', fontsize=20, y=1.1)\n",
    "plt.subplot(1, 2, 1)\n",
    "plt.plot(np.arange(len(train_loss)), train_loss)\n",
    "plt.yticks([0.0, 0.10, 0.20], fontsize=15)\n",
    "plt.xticks([0, 20, 40], fontsize=15)\n",
    "plt.title('Loss', fontsize=20)\n",
    "\n",
    "plt.subplot(1, 2, 2)\n",
    "plt.plot(np.arange(len(train_acc)), train_acc)\n",
    "plt.yticks([0.94, 0.96, 0.98, 1.0],fontsize=15)\n",
    "plt.xticks([0, 20, 40], fontsize=15)\n",
    "plt.title('Accuracy',fontsize=20)\n",
    "plt.subplots_adjust(hspace=1)\n",
    "\n",
    "plt.show()"
   ]
  },
  {
   "cell_type": "code",
   "execution_count": 10,
   "metadata": {},
   "outputs": [],
   "source": [
    "test = pd.read_csv('./SmartFall Testing.csv')\n",
    "\n",
    "n = 40\n",
    "X_test_adl, X_test_fall, y_test_adl, y_test_fall = list(), list(), list(), list()\n",
    "for i in range(0, len(test) - 40):\n",
    "    temp = list()\n",
    "    \n",
    "    temp.append(test[' ms_accelerometer_x'][i : i + n])\n",
    "    temp.append(test[' ms_accelerometer_y'][i : i + n])\n",
    "    temp.append(test[' ms_accelerometer_z'][i : i + n])\n",
    "    \n",
    "    cnt = collections.Counter(test['outcome'][i : i + n])\n",
    "    num_adl = cnt[0]\n",
    "    num_fall = cnt[1]\n",
    "    \n",
    "    if num_fall == 25:\n",
    "        y_test_fall.append(1)\n",
    "        X_test_fall.append(temp)\n",
    "    else:\n",
    "        y_test_adl.append(0)\n",
    "        X_test_adl.append(temp)\n",
    "\n",
    "y_test = y_test_adl + y_test_fall\n",
    "X_test = X_test_adl + X_test_fall\n",
    "\n",
    "X_test = np.asarray(X_test).reshape(-1, 40, 3)\n",
    "y_test = np.asarray(y_test).reshape(-1, )\n",
    "\n",
    "test_data =TensorDataset(torch.from_numpy(X_test), torch.from_numpy(y_test))\n",
    "test_loader = torch.utils.data.DataLoader(\n",
    "    test_data,\n",
    "    shuffle=True, batch_size=batch_size)"
   ]
  },
  {
   "cell_type": "code",
   "execution_count": 11,
   "metadata": {},
   "outputs": [
    {
     "name": "stdout",
     "output_type": "stream",
     "text": [
      "99.1657965598725\n",
      "[[87590   179]\n",
      " [  580  2636]]\n",
      "              precision    recall  f1-score   support\n",
      "\n",
      "           0       0.99      1.00      1.00     87769\n",
      "           1       0.94      0.82      0.87      3216\n",
      "\n",
      "    accuracy                           0.99     90985\n",
      "   macro avg       0.96      0.91      0.93     90985\n",
      "weighted avg       0.99      0.99      0.99     90985\n",
      "\n"
     ]
    }
   ],
   "source": [
    "# evaluation with test dataset\n",
    "from sklearn.metrics import classification_report, confusion_matrix, accuracy_score\n",
    "\n",
    "targets = list()\n",
    "preds = list()\n",
    "correct = 0\n",
    "model.load_state_dict(torch.load('SmartFall_lstm.pth'))\n",
    "with torch.no_grad():\n",
    "    for X, y in test_loader:\n",
    "        X, y = X.cuda(), y.cuda()\n",
    "        output = model(X.float())\n",
    "        pred = output.max(1, keepdim=True)[1]\n",
    "        correct += pred.eq(y.view_as(pred)).sum().item()\n",
    "\n",
    "        targets += list(y.cpu().numpy())\n",
    "        preds += list(pred.cpu().numpy())\n",
    "\n",
    "test_acc = 100. * correct / len(test_loader.dataset)\n",
    "confusion_mtx = confusion_matrix(targets, preds)\n",
    "print(test_acc)\n",
    "print(confusion_mtx)\n",
    "print(classification_report(targets, preds))"
   ]
  },
  {
   "cell_type": "code",
   "execution_count": 9,
   "metadata": {},
   "outputs": [],
   "source": [
    "# test\n",
    "input_dim = 3\n",
    "output_dim = 2\n",
    "n_layers = 2\n",
    "hidden_dim = 256\n",
    "model = LSTMNet(input_dim, hidden_dim, output_dim, n_layers).to(device)\n",
    "model.load_state_dict(torch.load('SmartFall_lstm.pth'))\n",
    "\n",
    "test_df = pd.read_csv('./SmartFall Testing.csv')\n",
    "n = 40\n",
    "i = 115\n",
    "temp = list()\n",
    "temp.append(test_df[' ms_accelerometer_x'][i : i + n])\n",
    "temp.append(test_df[' ms_accelerometer_y'][i : i + n])\n",
    "temp.append(test_df[' ms_accelerometer_z'][i : i + n])\n",
    "sensor_data = np.asarray(temp).reshape(-1, 40, 3)\n",
    "sensor_data_bytes = sensor_data.tobytes()"
   ]
  },
  {
   "cell_type": "code",
   "execution_count": 14,
   "metadata": {},
   "outputs": [
    {
     "name": "stdout",
     "output_type": "stream",
     "text": [
      "tensor([[-0.4782,  0.6536]], device='cuda:0')\n",
      "tensor([1], device='cuda:0')\n"
     ]
    }
   ],
   "source": [
    "with torch.no_grad():\n",
    "    sensor_data_from_bytes = np.frombuffer(sensor_data_bytes, dtype=np.float64).reshape(-1,40,3)\n",
    "    sensor_data_tensor = torch.tensor(sensor_data_from_bytes, dtype=torch.float)\n",
    "    output = model(sensor_data_tensor.to(device))\n",
    "    print(output)\n",
    "    pred = F.log_softmax(output, dim=1).argmax(dim=1)\n",
    "    print(pred)"
   ]
  }
 ],
 "metadata": {
  "kernelspec": {
   "display_name": "cuda11_6",
   "language": "python",
   "name": "python3"
  },
  "language_info": {
   "codemirror_mode": {
    "name": "ipython",
    "version": 3
   },
   "file_extension": ".py",
   "mimetype": "text/x-python",
   "name": "python",
   "nbconvert_exporter": "python",
   "pygments_lexer": "ipython3",
   "version": "3.10.9"
  },
  "orig_nbformat": 4,
  "vscode": {
   "interpreter": {
    "hash": "a2595b83834fb09609fe53e4f6b6a7000a2adbe093dc3b54157d0d81303d012a"
   }
  }
 },
 "nbformat": 4,
 "nbformat_minor": 2
}
